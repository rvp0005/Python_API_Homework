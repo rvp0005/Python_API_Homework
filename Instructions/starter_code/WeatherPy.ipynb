{
 "cells": [
  {
   "cell_type": "markdown",
   "metadata": {},
   "source": [
    "# WeatherPy"
   ]
  },
  {
   "cell_type": "markdown",
   "metadata": {},
   "source": [
    "## Generate Cities List"
   ]
  },
  {
   "cell_type": "markdown",
   "metadata": {},
   "source": []
  },
  {
   "cell_type": "code",
   "execution_count": 126,
   "metadata": {
    "scrolled": true
   },
   "outputs": [],
   "source": [
    "# Dependencies and Setup\n",
    "import matplotlib.pyplot as plt\n",
    "import pandas as pd\n",
    "import numpy as np\n",
    "import requests\n",
    "import time\n",
    "import openweathermapy as owm\n",
    "from pprint import pprint\n",
    "\n",
    "# Import API key\n",
    "from api_keys import api_key\n",
    "\n",
    "# Incorporated citipy to determine city based on latitude and longitude\n",
    "from citipy import citipy\n",
    "\n",
    "# Output File (CSV)\n",
    "output_data_file = \"output_data/cities.csv\"\n",
    "\n",
    "# Range of latitudes and longitudes\n",
    "lat_range = (-90, 90)\n",
    "lng_range = (-180, 180)"
   ]
  },
  {
   "cell_type": "code",
   "execution_count": 127,
   "metadata": {},
   "outputs": [
    {
     "name": "stdout",
     "output_type": "stream",
     "text": [
      "['kuruman', 'kristinehamn', 'punta arenas', 'karaul', 'rikitea', 'busselton', 'palabuhanratu', 'sao joao da barra']\n"
     ]
    }
   ],
   "source": [
    "# List for holding lat_lngs and cities\n",
    "lat_lngs = []\n",
    "cities = []\n",
    "\n",
    "# Create a set of random lat and lng combinations\n",
    "lats = np.random.uniform(low=-90.000, high=90.000, size=10)\n",
    "lngs = np.random.uniform(low=-180.000, high=180.000, size=10)\n",
    "lat_lngs = zip(lats, lngs)\n",
    "\n",
    "# Identify nearest city for each lat, lng combination\n",
    "for lat_lng in lat_lngs:\n",
    "    city = citipy.nearest_city(lat_lng[0], lat_lng[1]).city_name\n",
    "    \n",
    "    # If the city is unique, then add it to a our cities list\n",
    "    if city not in cities:\n",
    "        cities.append(city)\n",
    "\n",
    "# Print the city count to confirm sufficient count\n",
    "len(cities)\n",
    "print(cities)"
   ]
  },
  {
   "cell_type": "code",
   "execution_count": 129,
   "metadata": {},
   "outputs": [
    {
     "data": {
      "text/plain": [
       "['kuruman',\n",
       " 'kristinehamn',\n",
       " 'punta+arenas',\n",
       " 'karaul',\n",
       " 'rikitea',\n",
       " 'busselton',\n",
       " 'palabuhanratu',\n",
       " 'sao+joao+da+barra']"
      ]
     },
     "execution_count": 129,
     "metadata": {},
     "output_type": "execute_result"
    }
   ],
   "source": [
    "#only need to unhash if you need to run again, otherwise, it'll keep adding to the list\n",
    "\n",
    "#new_cities= []\n",
    "\n",
    "for x in cities:\n",
    "    y = x.replace(' ','+')\n",
    "    new_cities.append(y)\n",
    "new_cities"
   ]
  },
  {
   "cell_type": "markdown",
   "metadata": {},
   "source": [
    "### Perform API Calls\n",
    "* Perform a weather check on each city using a series of successive API calls.\n",
    "* Include a print log of each city as it'sbeing processed (with the city number and city name).\n"
   ]
  },
  {
   "cell_type": "code",
   "execution_count": 131,
   "metadata": {
    "scrolled": true
   },
   "outputs": [],
   "source": [
    "cities_df = pd.DataFrame(new_cities)\n",
    "cities_df['Max_temp']=''\n",
    "cities_df['Lat']=''\n",
    "cities_df['Lon']=''\n",
    "cities_df['Cloudiness']=''\n",
    "cities_df['Humidity']=''\n",
    "cities_df['Wind_speed']=''\n",
    "cities_df['Country']=''"
   ]
  },
  {
   "cell_type": "code",
   "execution_count": 141,
   "metadata": {},
   "outputs": [
    {
     "name": "stdout",
     "output_type": "stream",
     "text": [
      "0 | Processing kuruman.\n",
      "------------\n",
      "1 | Processing kristinehamn.\n",
      "------------\n",
      "2 | Processing punta+arenas.\n",
      "------------\n",
      "3 | Missing karaul, skipping.\n",
      "------------\n",
      "4 | Processing rikitea.\n",
      "------------\n",
      "5 | Processing busselton.\n",
      "------------\n",
      "6 | Missing palabuhanratu, skipping.\n",
      "------------\n",
      "7 | Processing sao+joao+da+barra.\n",
      "------------\n"
     ]
    }
   ],
   "source": [
    "settings = {\"units\": \"metric\", \"appid\": api_key}\n",
    "url = \"http://api.openweathermap.org/data/2.5/weather?\"\n",
    "\n",
    "for index, row in cities_df.iterrows():\n",
    "    city = row[0]\n",
    "    query_url = url + \"appid=\" + api_key + \"&q=\" + city + \"&units=metric\"\n",
    "    weather_response = requests.get(query_url).json()\n",
    "       \n",
    "    try:     \n",
    "        cities_df.loc[index, 'Max Temp'] = weather_response['main']['temp_max']\n",
    "        cities_df.loc[index, 'Lat'] = weather_response['coord']['lat']\n",
    "        cities_df.loc[index, 'Lon'] = weather_response['coord']['lon']\n",
    "        cities_df.loc[index, 'Cloudiness'] = weather_response['clouds']['all']\n",
    "        cities_df.loc[index, 'Humidity'] = weather_response['main']['humidity']\n",
    "        cities_df.loc[index, 'Windspeed'] = weather_response['wind']['speed']\n",
    "        cities_df.loc[index, 'Country'] = weather_response['sys']['country']\n",
    "        print(f\"{index} | Processing {row[0]}.\") \n",
    "        \n",
    "    except (KeyError, IndexError):\n",
    "        print(f\"{index} | Missing {row[0]}, skipping.\")\n",
    "        cities_df.loc[index, 'Max Temp'] = \"NaN\"\n",
    "        cities_df.loc[index, 'Lat'] = \"NaN\"\n",
    "        cities_df.loc[index, 'Lon'] = \"NaN\"\n",
    "        cities_df.loc[index, 'Cloudiness'] = \"NaN\"\n",
    "        cities_df.loc[index, 'Humidity'] = \"NaN\"\n",
    "        cities_df.loc[index, 'Windspeed'] = \"NaN\"\n",
    "        cities_df.loc[index, 'Country'] = \"NaN\"\n",
    "        \n",
    "    print(\"------------\")\n",
    "    \n",
    "    "
   ]
  },
  {
   "cell_type": "code",
   "execution_count": 142,
   "metadata": {},
   "outputs": [
    {
     "data": {
      "text/html": [
       "<div>\n",
       "<style scoped>\n",
       "    .dataframe tbody tr th:only-of-type {\n",
       "        vertical-align: middle;\n",
       "    }\n",
       "\n",
       "    .dataframe tbody tr th {\n",
       "        vertical-align: top;\n",
       "    }\n",
       "\n",
       "    .dataframe thead th {\n",
       "        text-align: right;\n",
       "    }\n",
       "</style>\n",
       "<table border=\"1\" class=\"dataframe\">\n",
       "  <thead>\n",
       "    <tr style=\"text-align: right;\">\n",
       "      <th></th>\n",
       "      <th>0</th>\n",
       "      <th>Max_temp</th>\n",
       "      <th>Lat</th>\n",
       "      <th>Lon</th>\n",
       "      <th>Cloudiness</th>\n",
       "      <th>Humidity</th>\n",
       "      <th>Wind_speed</th>\n",
       "      <th>Country</th>\n",
       "      <th>Max Temp</th>\n",
       "      <th>Windspeed</th>\n",
       "    </tr>\n",
       "  </thead>\n",
       "  <tbody>\n",
       "    <tr>\n",
       "      <th>0</th>\n",
       "      <td>kuruman</td>\n",
       "      <td></td>\n",
       "      <td>-27.46</td>\n",
       "      <td>23.43</td>\n",
       "      <td>0</td>\n",
       "      <td>19</td>\n",
       "      <td></td>\n",
       "      <td>ZA</td>\n",
       "      <td>21.55</td>\n",
       "      <td>6.07</td>\n",
       "    </tr>\n",
       "    <tr>\n",
       "      <th>1</th>\n",
       "      <td>kristinehamn</td>\n",
       "      <td></td>\n",
       "      <td>59.31</td>\n",
       "      <td>14.11</td>\n",
       "      <td>0</td>\n",
       "      <td>62</td>\n",
       "      <td></td>\n",
       "      <td>SE</td>\n",
       "      <td>2</td>\n",
       "      <td>4.1</td>\n",
       "    </tr>\n",
       "    <tr>\n",
       "      <th>2</th>\n",
       "      <td>punta+arenas</td>\n",
       "      <td></td>\n",
       "      <td>-53.16</td>\n",
       "      <td>-70.91</td>\n",
       "      <td>40</td>\n",
       "      <td>88</td>\n",
       "      <td></td>\n",
       "      <td>CL</td>\n",
       "      <td>12</td>\n",
       "      <td>13.4</td>\n",
       "    </tr>\n",
       "    <tr>\n",
       "      <th>3</th>\n",
       "      <td>karaul</td>\n",
       "      <td></td>\n",
       "      <td>Na</td>\n",
       "      <td>Na</td>\n",
       "      <td>Na</td>\n",
       "      <td>Na</td>\n",
       "      <td></td>\n",
       "      <td>Na</td>\n",
       "      <td>Na</td>\n",
       "      <td>Na</td>\n",
       "    </tr>\n",
       "    <tr>\n",
       "      <th>4</th>\n",
       "      <td>rikitea</td>\n",
       "      <td></td>\n",
       "      <td>-23.12</td>\n",
       "      <td>-134.97</td>\n",
       "      <td>32</td>\n",
       "      <td>100</td>\n",
       "      <td></td>\n",
       "      <td>PF</td>\n",
       "      <td>26.18</td>\n",
       "      <td>7.52</td>\n",
       "    </tr>\n",
       "    <tr>\n",
       "      <th>5</th>\n",
       "      <td>busselton</td>\n",
       "      <td></td>\n",
       "      <td>-33.64</td>\n",
       "      <td>115.35</td>\n",
       "      <td>0</td>\n",
       "      <td>100</td>\n",
       "      <td></td>\n",
       "      <td>AU</td>\n",
       "      <td>15.45</td>\n",
       "      <td>3.67</td>\n",
       "    </tr>\n",
       "    <tr>\n",
       "      <th>6</th>\n",
       "      <td>palabuhanratu</td>\n",
       "      <td></td>\n",
       "      <td>Na</td>\n",
       "      <td>Na</td>\n",
       "      <td>Na</td>\n",
       "      <td>Na</td>\n",
       "      <td></td>\n",
       "      <td>Na</td>\n",
       "      <td>Na</td>\n",
       "      <td>Na</td>\n",
       "    </tr>\n",
       "    <tr>\n",
       "      <th>7</th>\n",
       "      <td>sao+joao+da+barra</td>\n",
       "      <td></td>\n",
       "      <td>-21.64</td>\n",
       "      <td>-41.05</td>\n",
       "      <td>0</td>\n",
       "      <td>55</td>\n",
       "      <td></td>\n",
       "      <td>BR</td>\n",
       "      <td>31</td>\n",
       "      <td>8.2</td>\n",
       "    </tr>\n",
       "  </tbody>\n",
       "</table>\n",
       "</div>"
      ],
      "text/plain": [
       "                   0 Max_temp    Lat     Lon Cloudiness Humidity Wind_speed  \\\n",
       "0            kuruman          -27.46   23.43          0       19              \n",
       "1       kristinehamn           59.31   14.11          0       62              \n",
       "2       punta+arenas          -53.16  -70.91         40       88              \n",
       "3             karaul              Na      Na         Na       Na              \n",
       "4            rikitea          -23.12 -134.97         32      100              \n",
       "5          busselton          -33.64  115.35          0      100              \n",
       "6      palabuhanratu              Na      Na         Na       Na              \n",
       "7  sao+joao+da+barra          -21.64  -41.05          0       55              \n",
       "\n",
       "  Country Max Temp Windspeed  \n",
       "0      ZA    21.55      6.07  \n",
       "1      SE        2       4.1  \n",
       "2      CL       12      13.4  \n",
       "3      Na       Na        Na  \n",
       "4      PF    26.18      7.52  \n",
       "5      AU    15.45      3.67  \n",
       "6      Na       Na        Na  \n",
       "7      BR       31       8.2  "
      ]
     },
     "execution_count": 142,
     "metadata": {},
     "output_type": "execute_result"
    }
   ],
   "source": [
    "cities_df"
   ]
  },
  {
   "cell_type": "code",
   "execution_count": 147,
   "metadata": {},
   "outputs": [
    {
     "data": {
      "text/html": [
       "<div>\n",
       "<style scoped>\n",
       "    .dataframe tbody tr th:only-of-type {\n",
       "        vertical-align: middle;\n",
       "    }\n",
       "\n",
       "    .dataframe tbody tr th {\n",
       "        vertical-align: top;\n",
       "    }\n",
       "\n",
       "    .dataframe thead th {\n",
       "        text-align: right;\n",
       "    }\n",
       "</style>\n",
       "<table border=\"1\" class=\"dataframe\">\n",
       "  <thead>\n",
       "    <tr style=\"text-align: right;\">\n",
       "      <th></th>\n",
       "      <th>0</th>\n",
       "      <th>Max_temp</th>\n",
       "      <th>Lat</th>\n",
       "      <th>Lon</th>\n",
       "      <th>Cloudiness</th>\n",
       "      <th>Humidity</th>\n",
       "      <th>Wind_speed</th>\n",
       "      <th>Country</th>\n",
       "      <th>Max Temp</th>\n",
       "      <th>Windspeed</th>\n",
       "    </tr>\n",
       "  </thead>\n",
       "  <tbody>\n",
       "    <tr>\n",
       "      <th>0</th>\n",
       "      <td>kuruman</td>\n",
       "      <td></td>\n",
       "      <td>-27.46</td>\n",
       "      <td>23.43</td>\n",
       "      <td>0</td>\n",
       "      <td>19</td>\n",
       "      <td></td>\n",
       "      <td>ZA</td>\n",
       "      <td>21.55</td>\n",
       "      <td>6.07</td>\n",
       "    </tr>\n",
       "    <tr>\n",
       "      <th>1</th>\n",
       "      <td>kristinehamn</td>\n",
       "      <td></td>\n",
       "      <td>59.31</td>\n",
       "      <td>14.11</td>\n",
       "      <td>0</td>\n",
       "      <td>62</td>\n",
       "      <td></td>\n",
       "      <td>SE</td>\n",
       "      <td>2</td>\n",
       "      <td>4.1</td>\n",
       "    </tr>\n",
       "    <tr>\n",
       "      <th>2</th>\n",
       "      <td>punta+arenas</td>\n",
       "      <td></td>\n",
       "      <td>-53.16</td>\n",
       "      <td>-70.91</td>\n",
       "      <td>40</td>\n",
       "      <td>88</td>\n",
       "      <td></td>\n",
       "      <td>CL</td>\n",
       "      <td>12</td>\n",
       "      <td>13.4</td>\n",
       "    </tr>\n",
       "    <tr>\n",
       "      <th>3</th>\n",
       "      <td>karaul</td>\n",
       "      <td></td>\n",
       "      <td>Na</td>\n",
       "      <td>Na</td>\n",
       "      <td>Na</td>\n",
       "      <td>Na</td>\n",
       "      <td></td>\n",
       "      <td>Na</td>\n",
       "      <td>Na</td>\n",
       "      <td>Na</td>\n",
       "    </tr>\n",
       "    <tr>\n",
       "      <th>4</th>\n",
       "      <td>rikitea</td>\n",
       "      <td></td>\n",
       "      <td>-23.12</td>\n",
       "      <td>-134.97</td>\n",
       "      <td>32</td>\n",
       "      <td>100</td>\n",
       "      <td></td>\n",
       "      <td>PF</td>\n",
       "      <td>26.18</td>\n",
       "      <td>7.52</td>\n",
       "    </tr>\n",
       "    <tr>\n",
       "      <th>5</th>\n",
       "      <td>busselton</td>\n",
       "      <td></td>\n",
       "      <td>-33.64</td>\n",
       "      <td>115.35</td>\n",
       "      <td>0</td>\n",
       "      <td>100</td>\n",
       "      <td></td>\n",
       "      <td>AU</td>\n",
       "      <td>15.45</td>\n",
       "      <td>3.67</td>\n",
       "    </tr>\n",
       "    <tr>\n",
       "      <th>6</th>\n",
       "      <td>palabuhanratu</td>\n",
       "      <td></td>\n",
       "      <td>Na</td>\n",
       "      <td>Na</td>\n",
       "      <td>Na</td>\n",
       "      <td>Na</td>\n",
       "      <td></td>\n",
       "      <td>Na</td>\n",
       "      <td>Na</td>\n",
       "      <td>Na</td>\n",
       "    </tr>\n",
       "    <tr>\n",
       "      <th>7</th>\n",
       "      <td>sao+joao+da+barra</td>\n",
       "      <td></td>\n",
       "      <td>-21.64</td>\n",
       "      <td>-41.05</td>\n",
       "      <td>0</td>\n",
       "      <td>55</td>\n",
       "      <td></td>\n",
       "      <td>BR</td>\n",
       "      <td>31</td>\n",
       "      <td>8.2</td>\n",
       "    </tr>\n",
       "  </tbody>\n",
       "</table>\n",
       "</div>"
      ],
      "text/plain": [
       "                   0 Max_temp    Lat     Lon Cloudiness Humidity Wind_speed  \\\n",
       "0            kuruman          -27.46   23.43          0       19              \n",
       "1       kristinehamn           59.31   14.11          0       62              \n",
       "2       punta+arenas          -53.16  -70.91         40       88              \n",
       "3             karaul              Na      Na         Na       Na              \n",
       "4            rikitea          -23.12 -134.97         32      100              \n",
       "5          busselton          -33.64  115.35          0      100              \n",
       "6      palabuhanratu              Na      Na         Na       Na              \n",
       "7  sao+joao+da+barra          -21.64  -41.05          0       55              \n",
       "\n",
       "  Country Max Temp Windspeed  \n",
       "0      ZA    21.55      6.07  \n",
       "1      SE        2       4.1  \n",
       "2      CL       12      13.4  \n",
       "3      Na       Na        Na  \n",
       "4      PF    26.18      7.52  \n",
       "5      AU    15.45      3.67  \n",
       "6      Na       Na        Na  \n",
       "7      BR       31       8.2  "
      ]
     },
     "execution_count": 147,
     "metadata": {},
     "output_type": "execute_result"
    }
   ],
   "source": [
    "refined_cities= pd.DataFrame(cities_df)\n",
    "refined_cities.dropna(inplace=True)\n",
    "refined_cities"
   ]
  },
  {
   "cell_type": "markdown",
   "metadata": {},
   "source": [
    "### Plotting the Data\n",
    "* Use proper labeling of the plots using plot titles (including date of analysis) and axes labels.\n",
    "* Save the plotted figures as .pngs."
   ]
  },
  {
   "cell_type": "markdown",
   "metadata": {},
   "source": [
    "#### Latitude vs. Temperature Plot"
   ]
  },
  {
   "cell_type": "code",
   "execution_count": null,
   "metadata": {},
   "outputs": [],
   "source": []
  },
  {
   "cell_type": "markdown",
   "metadata": {},
   "source": [
    "#### Latitude vs. Humidity Plot"
   ]
  },
  {
   "cell_type": "code",
   "execution_count": null,
   "metadata": {},
   "outputs": [],
   "source": []
  },
  {
   "cell_type": "markdown",
   "metadata": {},
   "source": [
    "#### Latitude vs. Cloudiness Plot"
   ]
  },
  {
   "cell_type": "code",
   "execution_count": null,
   "metadata": {},
   "outputs": [],
   "source": []
  },
  {
   "cell_type": "markdown",
   "metadata": {},
   "source": [
    "#### Latitude vs. Wind Speed Plot"
   ]
  },
  {
   "cell_type": "code",
   "execution_count": null,
   "metadata": {},
   "outputs": [],
   "source": []
  },
  {
   "cell_type": "code",
   "execution_count": null,
   "metadata": {},
   "outputs": [],
   "source": []
  },
  {
   "cell_type": "code",
   "execution_count": 4,
   "metadata": {},
   "outputs": [
    {
     "name": "stdout",
     "output_type": "stream",
     "text": [
      "Beginning Data Retrieval\n",
      "-----------------------------\n"
     ]
    }
   ],
   "source": [
    "print(\"Beginning Data Retrieval\")\n",
    "print(\"-----------------------------\")\n",
    "\n",
    "num = 0\n",
    "weather_data=[]\n",
    "data=[]\n",
    "settings = {\"units\": \"metric\", \"appid\": api_key}\n",
    "\n",
    "for city in cities:\n",
    "    weather_data= [owm.get_current(\"city\", **settings)]\n",
    "    data.append(weather_data)\n",
    "    num +=1\n",
    "    \n"
   ]
  }
 ],
 "metadata": {
  "anaconda-cloud": {},
  "kernelspec": {
   "display_name": "Python 3",
   "language": "python",
   "name": "python3"
  },
  "language_info": {
   "codemirror_mode": {
    "name": "ipython",
    "version": 3
   },
   "file_extension": ".py",
   "mimetype": "text/x-python",
   "name": "python",
   "nbconvert_exporter": "python",
   "pygments_lexer": "ipython3",
   "version": "3.7.0"
  }
 },
 "nbformat": 4,
 "nbformat_minor": 2
}
