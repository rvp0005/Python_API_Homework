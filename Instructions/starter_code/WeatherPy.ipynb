{
 "cells": [
  {
   "cell_type": "markdown",
   "metadata": {},
   "source": [
    "# WeatherPy"
   ]
  },
  {
   "cell_type": "markdown",
   "metadata": {},
   "source": [
    "## Generate Cities List"
   ]
  },
  {
   "cell_type": "markdown",
   "metadata": {},
   "source": []
  },
  {
   "cell_type": "code",
   "execution_count": 152,
   "metadata": {
    "scrolled": true
   },
   "outputs": [],
   "source": [
    "# Dependencies and Setup\n",
    "import matplotlib.pyplot as plt\n",
    "import pandas as pd\n",
    "import numpy as np\n",
    "import requests\n",
    "import time\n",
    "import openweathermapy as owm\n",
    "from pprint import pprint\n",
    "\n",
    "# Import API key\n",
    "from api_keys import api_key\n",
    "\n",
    "# Incorporated citipy to determine city based on latitude and longitude\n",
    "from citipy import citipy\n",
    "\n",
    "# Output File (CSV)\n",
    "output_data_file = \"output_data/cities.csv\"\n",
    "\n",
    "# Range of latitudes and longitudes\n",
    "lat_range = (-90, 90)\n",
    "lng_range = (-180, 180)"
   ]
  },
  {
   "cell_type": "code",
   "execution_count": 153,
   "metadata": {},
   "outputs": [
    {
     "name": "stdout",
     "output_type": "stream",
     "text": [
      "['chuy', 'ushuaia', 'airai', 'saint-philippe', 'sorland', 'parana', 'rikitea', 'illoqqortoormiut', 'avarua']\n"
     ]
    }
   ],
   "source": [
    "# List for holding lat_lngs and cities\n",
    "lat_lngs = []\n",
    "cities = []\n",
    "\n",
    "# Create a set of random lat and lng combinations\n",
    "lats = np.random.uniform(low=-90.000, high=90.000, size=1500)\n",
    "lngs = np.random.uniform(low=-180.000, high=180.000, size=1500)\n",
    "lat_lngs = zip(lats, lngs)\n",
    "\n",
    "# Identify nearest city for each lat, lng combination\n",
    "for lat_lng in lat_lngs:\n",
    "    city = citipy.nearest_city(lat_lng[0], lat_lng[1]).city_name\n",
    "    \n",
    "    # If the city is unique, then add it to a our cities list\n",
    "    if city not in cities:\n",
    "        cities.append(city)\n",
    "\n",
    "# Print the city count to confirm sufficient count\n",
    "len(cities)\n",
    "print(cities)"
   ]
  },
  {
   "cell_type": "code",
   "execution_count": 154,
   "metadata": {},
   "outputs": [
    {
     "data": {
      "text/plain": [
       "['chuy',\n",
       " 'ushuaia',\n",
       " 'airai',\n",
       " 'saint-philippe',\n",
       " 'sorland',\n",
       " 'parana',\n",
       " 'rikitea',\n",
       " 'illoqqortoormiut',\n",
       " 'avarua']"
      ]
     },
     "execution_count": 154,
     "metadata": {},
     "output_type": "execute_result"
    }
   ],
   "source": [
    "#only need to unhash if you need to run again, otherwise, it'll keep adding to the list\n",
    "new_cities= []\n",
    "\n",
    "for x in cities:\n",
    "    y = x.replace(' ','+')\n",
    "    new_cities.append(y)\n",
    "new_cities"
   ]
  },
  {
   "cell_type": "markdown",
   "metadata": {},
   "source": [
    "### Perform API Calls\n",
    "* Perform a weather check on each city using a series of successive API calls.\n",
    "* Include a print log of each city as it'sbeing processed (with the city number and city name).\n"
   ]
  },
  {
   "cell_type": "code",
   "execution_count": 165,
   "metadata": {},
   "outputs": [
    {
     "name": "stdout",
     "output_type": "stream",
     "text": [
      "1 | Processing chuy.\n",
      "2 | Processing ushuaia.\n",
      "3 | Processing airai.\n",
      "4 | Processing saint-philippe.\n",
      "5 | Processing sorland.\n",
      "6 | Processing parana.\n",
      "7 | Processing rikitea.\n",
      "9 | Missing illoqqortoormiut, skipping.\n",
      "10 | Processing avarua.\n"
     ]
    }
   ],
   "source": [
    "Max_temp= []\n",
    "Lat = []\n",
    "Lon= []\n",
    "Cloudiness = []\n",
    "Humidity = []\n",
    "Windspeed = []\n",
    "Country = []\n",
    "\n",
    "url = \"http://api.openweathermap.org/data/2.5/weather?\"\n",
    "num = 0\n",
    "\n",
    "for x in new_cities:\n",
    "    city = x\n",
    "    query_url = url + \"appid=\" + api_key + \"&q=\" + city + \"&units=imperial\"\n",
    "    weather_response = requests.get(query_url).json()\n",
    "          \n",
    "    try:\n",
    "        num = num + 1\n",
    "        Max_temp.append(weather_response['main']['temp_max'])\n",
    "        Lat.append(weather_response['coord']['lat'])\n",
    "        Lon.append(weather_response['coord']['lon'])\n",
    "        Cloudiness.append(weather_response['clouds']['all'])\n",
    "        Humidity.append(weather_response['main']['humidity'])\n",
    "        Windspeed.append(weather_response['wind']['speed'])\n",
    "        Country.append(weather_response['sys']['country'])\n",
    "        print(f\"{num} | Processing {city}.\") \n",
    "        \n",
    "    except (KeyError, IndexError):\n",
    "        num = num + 1\n",
    "        Max_temp.append('NaN')\n",
    "        Lat.append('NaN')\n",
    "        Lon.append('NaN')\n",
    "        Cloudiness.append('NaN')\n",
    "        Humidity.append('NaN')\n",
    "        Windspeed.append('NaN')\n",
    "        Country.append('NaN')\n",
    "        print(f\"{num} | Missing {city}, skipping.\")"
   ]
  },
  {
   "cell_type": "code",
   "execution_count": null,
   "metadata": {},
   "outputs": [],
   "source": [
    "cities_dict= {}\n",
    "cities_dict= {\"Cities\": cities,\n",
    "    \"Country\": Country,\n",
    "    \"Max_temp\": Max_temp,\n",
    "    \"Lat\": Lat,\n",
    "    \"Lon\": Lon,\n",
    "    \"Cloudiness\": Cloudiness,\n",
    "    \"Humidity\": Humidity,\n",
    "    \"Windspeed\": Windspeed}"
   ]
  },
  {
   "cell_type": "code",
   "execution_count": 174,
   "metadata": {},
   "outputs": [
    {
     "data": {
      "text/plain": [
       "Cities        object\n",
       "Country       object\n",
       "Max_temp      object\n",
       "Lat           object\n",
       "Lon           object\n",
       "Cloudiness    object\n",
       "Humidity      object\n",
       "Windspeed     object\n",
       "dtype: object"
      ]
     },
     "execution_count": 174,
     "metadata": {},
     "output_type": "execute_result"
    }
   ],
   "source": [
    "cities_data = pd.DataFrame(cities_dict)\n",
    "cities_data.dtypes"
   ]
  },
  {
   "cell_type": "code",
   "execution_count": 176,
   "metadata": {},
   "outputs": [],
   "source": [
    "cities_data.dropna(inplace=True)"
   ]
  },
  {
   "cell_type": "code",
   "execution_count": 177,
   "metadata": {},
   "outputs": [
    {
     "data": {
      "text/html": [
       "<div>\n",
       "<style scoped>\n",
       "    .dataframe tbody tr th:only-of-type {\n",
       "        vertical-align: middle;\n",
       "    }\n",
       "\n",
       "    .dataframe tbody tr th {\n",
       "        vertical-align: top;\n",
       "    }\n",
       "\n",
       "    .dataframe thead th {\n",
       "        text-align: right;\n",
       "    }\n",
       "</style>\n",
       "<table border=\"1\" class=\"dataframe\">\n",
       "  <thead>\n",
       "    <tr style=\"text-align: right;\">\n",
       "      <th></th>\n",
       "      <th>Cities</th>\n",
       "      <th>Country</th>\n",
       "      <th>Max_temp</th>\n",
       "      <th>Lat</th>\n",
       "      <th>Lon</th>\n",
       "      <th>Cloudiness</th>\n",
       "      <th>Humidity</th>\n",
       "      <th>Windspeed</th>\n",
       "    </tr>\n",
       "  </thead>\n",
       "  <tbody>\n",
       "    <tr>\n",
       "      <th>0</th>\n",
       "      <td>chuy</td>\n",
       "      <td>UY</td>\n",
       "      <td>79.84</td>\n",
       "      <td>-33.69</td>\n",
       "      <td>-53.46</td>\n",
       "      <td>80</td>\n",
       "      <td>93</td>\n",
       "      <td>4.97</td>\n",
       "    </tr>\n",
       "    <tr>\n",
       "      <th>1</th>\n",
       "      <td>ushuaia</td>\n",
       "      <td>AR</td>\n",
       "      <td>57.2</td>\n",
       "      <td>-54.81</td>\n",
       "      <td>-68.31</td>\n",
       "      <td>75</td>\n",
       "      <td>58</td>\n",
       "      <td>18.34</td>\n",
       "    </tr>\n",
       "    <tr>\n",
       "      <th>2</th>\n",
       "      <td>airai</td>\n",
       "      <td>TL</td>\n",
       "      <td>69.76</td>\n",
       "      <td>-8.93</td>\n",
       "      <td>125.41</td>\n",
       "      <td>68</td>\n",
       "      <td>92</td>\n",
       "      <td>1.61</td>\n",
       "    </tr>\n",
       "    <tr>\n",
       "      <th>3</th>\n",
       "      <td>saint-philippe</td>\n",
       "      <td>CA</td>\n",
       "      <td>14.54</td>\n",
       "      <td>45.36</td>\n",
       "      <td>-73.48</td>\n",
       "      <td>75</td>\n",
       "      <td>72</td>\n",
       "      <td>9.17</td>\n",
       "    </tr>\n",
       "    <tr>\n",
       "      <th>4</th>\n",
       "      <td>sorland</td>\n",
       "      <td>NO</td>\n",
       "      <td>33.8</td>\n",
       "      <td>67.67</td>\n",
       "      <td>12.69</td>\n",
       "      <td>40</td>\n",
       "      <td>54</td>\n",
       "      <td>25.28</td>\n",
       "    </tr>\n",
       "    <tr>\n",
       "      <th>5</th>\n",
       "      <td>parana</td>\n",
       "      <td>BR</td>\n",
       "      <td>83.17</td>\n",
       "      <td>-7.52</td>\n",
       "      <td>-72.89</td>\n",
       "      <td>24</td>\n",
       "      <td>80</td>\n",
       "      <td>3.62</td>\n",
       "    </tr>\n",
       "    <tr>\n",
       "      <th>6</th>\n",
       "      <td>rikitea</td>\n",
       "      <td>PF</td>\n",
       "      <td>79.97</td>\n",
       "      <td>-23.12</td>\n",
       "      <td>-134.97</td>\n",
       "      <td>100</td>\n",
       "      <td>97</td>\n",
       "      <td>11.01</td>\n",
       "    </tr>\n",
       "    <tr>\n",
       "      <th>7</th>\n",
       "      <td>illoqqortoormiut</td>\n",
       "      <td>NaN</td>\n",
       "      <td>NaN</td>\n",
       "      <td>NaN</td>\n",
       "      <td>NaN</td>\n",
       "      <td>NaN</td>\n",
       "      <td>NaN</td>\n",
       "      <td>NaN</td>\n",
       "    </tr>\n",
       "    <tr>\n",
       "      <th>8</th>\n",
       "      <td>avarua</td>\n",
       "      <td>CK</td>\n",
       "      <td>77</td>\n",
       "      <td>-21.21</td>\n",
       "      <td>-159.78</td>\n",
       "      <td>40</td>\n",
       "      <td>83</td>\n",
       "      <td>3.36</td>\n",
       "    </tr>\n",
       "  </tbody>\n",
       "</table>\n",
       "</div>"
      ],
      "text/plain": [
       "             Cities Country Max_temp    Lat     Lon Cloudiness Humidity  \\\n",
       "0              chuy      UY    79.84 -33.69  -53.46         80       93   \n",
       "1           ushuaia      AR     57.2 -54.81  -68.31         75       58   \n",
       "2             airai      TL    69.76  -8.93  125.41         68       92   \n",
       "3    saint-philippe      CA    14.54  45.36  -73.48         75       72   \n",
       "4           sorland      NO     33.8  67.67   12.69         40       54   \n",
       "5            parana      BR    83.17  -7.52  -72.89         24       80   \n",
       "6           rikitea      PF    79.97 -23.12 -134.97        100       97   \n",
       "7  illoqqortoormiut     NaN      NaN    NaN     NaN        NaN      NaN   \n",
       "8            avarua      CK       77 -21.21 -159.78         40       83   \n",
       "\n",
       "  Windspeed  \n",
       "0      4.97  \n",
       "1     18.34  \n",
       "2      1.61  \n",
       "3      9.17  \n",
       "4     25.28  \n",
       "5      3.62  \n",
       "6     11.01  \n",
       "7       NaN  \n",
       "8      3.36  "
      ]
     },
     "execution_count": 177,
     "metadata": {},
     "output_type": "execute_result"
    }
   ],
   "source": [
    "cities_data[\"Max_temp\"]"
   ]
  },
  {
   "cell_type": "markdown",
   "metadata": {},
   "source": [
    "### Plotting the Data\n",
    "* Use proper labeling of the plots using plot titles (including date of analysis) and axes labels.\n",
    "* Save the plotted figures as .pngs."
   ]
  },
  {
   "cell_type": "markdown",
   "metadata": {},
   "source": [
    "#### Latitude vs. Temperature Plot"
   ]
  },
  {
   "cell_type": "code",
   "execution_count": 194,
   "metadata": {},
   "outputs": [
    {
     "data": {
      "image/png": "[encoded data removed]",
      "text/plain": [
       "<Figure size 432x288 with 1 Axes>"
      ]
     },
     "metadata": {
      "needs_background": "light"
     },
     "output_type": "display_data"
    }
   ],
   "source": [
    "Lat = cities_data[\"Lat\"]\n",
    "Temp = cities_data[\"Max_temp\"]\n",
    "plt.scatter(Lat, Temp, marker=\".\", c= 'darkblue')\n",
    "plt.xlabel(\"Latitude\")\n",
    "plt.ylabel(\"Temperature(F)\")\n",
    "plt.title(\"City Latitude v Max Temperature (1/14/2019)\")\n",
    "plt.grid()"
   ]
  },
  {
   "cell_type": "markdown",
   "metadata": {},
   "source": [
    "#### Latitude vs. Humidity Plot"
   ]
  },
  {
   "cell_type": "code",
   "execution_count": 195,
   "metadata": {},
   "outputs": [
    {
     "data": {
      "image/png": "[encoded data removed]",
      "text/plain": [
       "<Figure size 432x288 with 1 Axes>"
      ]
     },
     "metadata": {
      "needs_background": "light"
     },
     "output_type": "display_data"
    }
   ],
   "source": [
    "Humid = cities_data[\"Humidity\"]\n",
    "plt.scatter(Lat, Humid, marker=\".\", c= 'darkblue')\n",
    "plt.xlabel(\"Latitude\")\n",
    "plt.ylabel(\"Humidity\")\n",
    "plt.title(\"City Latitude v Humidity (1/14/2019)\")\n",
    "plt.grid()"
   ]
  },
  {
   "cell_type": "markdown",
   "metadata": {},
   "source": [
    "#### Latitude vs. Cloudiness Plot"
   ]
  },
  {
   "cell_type": "code",
   "execution_count": 196,
   "metadata": {},
   "outputs": [
    {
     "data": {
      "image/png": "[encoded data removed]",
      "text/plain": [
       "<Figure size 432x288 with 1 Axes>"
      ]
     },
     "metadata": {
      "needs_background": "light"
     },
     "output_type": "display_data"
    }
   ],
   "source": [
    "Clouds = cities_data[\"Cloudiness\"]\n",
    "plt.scatter(Lat, Clouds, marker=\".\", c= 'darkblue')\n",
    "plt.xlabel(\"Latitude\")\n",
    "plt.ylabel(\"Cloudiness\")\n",
    "plt.title(\"City Latitude v Cloudiness (1/14/2019)\")\n",
    "plt.grid()"
   ]
  },
  {
   "cell_type": "markdown",
   "metadata": {},
   "source": [
    "#### Latitude vs. Wind Speed Plot"
   ]
  },
  {
   "cell_type": "code",
   "execution_count": 197,
   "metadata": {},
   "outputs": [
    {
     "data": {
      "image/png": "[encoded data removed]",
      "text/plain": [
       "<Figure size 432x288 with 1 Axes>"
      ]
     },
     "metadata": {
      "needs_background": "light"
     },
     "output_type": "display_data"
    }
   ],
   "source": [
    "W_speed = cities_data[\"Windspeed\"]\n",
    "plt.scatter(Lat, W_speed, marker=\".\", c= 'darkblue')\n",
    "plt.xlabel(\"Latitude\")\n",
    "plt.ylabel(\"Wind Speed (MPH)\")\n",
    "plt.title(\"City Latitude v Wind Speed (1/14/2019)\")\n",
    "plt.grid()"
   ]
  },
  {
   "cell_type": "code",
   "execution_count": null,
   "metadata": {},
   "outputs": [],
   "source": []
  },
  {
   "cell_type": "code",
   "execution_count": null,
   "metadata": {},
   "outputs": [],
   "source": [
    "\n"
   ]
  }
 ],
 "metadata": {
  "anaconda-cloud": {},
  "kernelspec": {
   "display_name": "Python 3",
   "language": "python",
   "name": "python3"
  },
  "language_info": {
   "codemirror_mode": {
    "name": "ipython",
    "version": 3
   },
   "file_extension": ".py",
   "mimetype": "text/x-python",
   "name": "python",
   "nbconvert_exporter": "python",
   "pygments_lexer": "ipython3",
   "version": "3.7.0"
  }
 },
 "nbformat": 4,
 "nbformat_minor": 2
}
